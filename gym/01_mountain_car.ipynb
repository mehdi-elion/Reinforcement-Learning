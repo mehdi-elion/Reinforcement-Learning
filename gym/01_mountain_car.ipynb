{
 "cells": [
  {
   "cell_type": "markdown",
   "id": "e7ad47ed-5aaf-454c-a90d-cd9a0c048d3b",
   "metadata": {},
   "source": [
    "# Mountain Car Environment"
   ]
  },
  {
   "cell_type": "markdown",
   "id": "14294cc3-4789-409c-a7f1-44962628eb93",
   "metadata": {},
   "source": [
    "* [Documentation](https://www.gymlibrary.ml/environments/classic_control/mountain_car/) for this environment\n",
    "* [Tutorial](https://blog.paperspace.com/getting-started-with-openai-gym/)"
   ]
  },
  {
   "cell_type": "code",
   "execution_count": 1,
   "id": "e2000a7e-0f73-4333-a846-2929e0b938cf",
   "metadata": {},
   "outputs": [
    {
     "name": "stderr",
     "output_type": "stream",
     "text": [
      "C:\\Users\\mehdi\\Anaconda3\\envs\\rl_gym\\lib\\site-packages\\gym\\envs\\registration.py:423: UserWarning: \u001b[33mWARN: Custom namespace `ALE` is being overridden by namespace `ALE`. If you are developing a plugin you shouldn't specify a namespace in `register` calls. The namespace is specified through the entry point package metadata.\u001b[0m\n",
      "  logger.warn(\n"
     ]
    }
   ],
   "source": [
    "import gym\n",
    "env = gym.make('MountainCar-v0')"
   ]
  },
  {
   "cell_type": "code",
   "execution_count": null,
   "id": "7c82edd3-430e-4ae7-9af9-280eff00db96",
   "metadata": {},
   "outputs": [],
   "source": []
  },
  {
   "cell_type": "code",
   "execution_count": 2,
   "id": "445c273e-f50a-425c-82ea-2c45f2d4a1bd",
   "metadata": {},
   "outputs": [
    {
     "name": "stdout",
     "output_type": "stream",
     "text": [
      "The observation space  -->  Box([-1.2  -0.07], [0.6  0.07], (2,), float32)\n"
     ]
    }
   ],
   "source": [
    "# Observation space : low, high, shape, type\n",
    "obs_space = env.observation_space\n",
    "print(\"The observation space  -->  {}\".format(obs_space))"
   ]
  },
  {
   "cell_type": "code",
   "execution_count": 11,
   "id": "a77ff3d2-0270-4f33-a780-0dd998d4110a",
   "metadata": {},
   "outputs": [
    {
     "name": "stdout",
     "output_type": "stream",
     "text": [
      "Upper Bound for Env Observation [0.6  0.07]\n",
      "Lower Bound for Env Observation [-1.2  -0.07]\n"
     ]
    }
   ],
   "source": [
    "print(\"Upper Bound for Env Observation\", env.observation_space.high)\n",
    "print(\"Lower Bound for Env Observation\", env.observation_space.low)"
   ]
  },
  {
   "attachments": {
    "265596c1-3c1d-4ccc-913e-0711c571342e.png": {
     "image/png": "[encoded data removed]"
    }
   },
   "cell_type": "markdown",
   "id": "9d39657c-254f-4a6e-81de-dc28460c0d74",
   "metadata": {},
   "source": [
    "![image.png](attachment:265596c1-3c1d-4ccc-913e-0711c571342e.png)"
   ]
  },
  {
   "cell_type": "code",
   "execution_count": null,
   "id": "9842c903-7c1b-49b4-a158-8dac5bf6e34b",
   "metadata": {},
   "outputs": [],
   "source": []
  },
  {
   "cell_type": "code",
   "execution_count": 3,
   "id": "032ecf9a-0411-4d54-8a9d-29704a4a0d1c",
   "metadata": {},
   "outputs": [
    {
     "name": "stdout",
     "output_type": "stream",
     "text": [
      "The action space  -->   Discrete(3)\n"
     ]
    }
   ],
   "source": [
    "# Action space : 3 discrete deterministic actions\n",
    "action_space = env.action_space\n",
    "print(\"The action space  -->   {}\".format(action_space))"
   ]
  },
  {
   "attachments": {
    "e18c03fd-252c-4aaf-9f88-cb5df7eb3318.png": {
     "image/png": "[encoded data removed]"
    }
   },
   "cell_type": "markdown",
   "id": "fc95854b-7536-46ab-8454-0c263889fb31",
   "metadata": {},
   "source": [
    "![image.png](attachment:e18c03fd-252c-4aaf-9f88-cb5df7eb3318.png)"
   ]
  },
  {
   "cell_type": "code",
   "execution_count": null,
   "id": "972847ff-a78a-4f46-8786-a63b91a88397",
   "metadata": {},
   "outputs": [],
   "source": []
  },
  {
   "cell_type": "code",
   "execution_count": 4,
   "id": "1ede043b-d773-4677-b05b-50d250d75811",
   "metadata": {},
   "outputs": [
    {
     "name": "stdout",
     "output_type": "stream",
     "text": [
      "The initial observation is [-0.59669447  0.        ]\n",
      "The new observation is [-5.971506e-01 -4.561654e-04]\n"
     ]
    }
   ],
   "source": [
    "import matplotlib.pyplot as plt \n",
    "\n",
    "# reset the environment and see the initial observation\n",
    "obs = env.reset()\n",
    "print(\"The initial observation is {}\".format(obs))\n",
    "\n",
    "# Sample a random action from the entire action space\n",
    "random_action = env.action_space.sample()\n",
    "\n",
    "# # Take the action and get the new observation space\n",
    "new_obs, reward, done, info = env.step(random_action)\n",
    "print(\"The new observation is {}\".format(new_obs))"
   ]
  },
  {
   "cell_type": "code",
   "execution_count": 5,
   "id": "a9285c98-48b0-47fb-b610-80b326c4ceb1",
   "metadata": {},
   "outputs": [],
   "source": [
    "# env.render(mode = \"human\")\n",
    "# env.close()"
   ]
  },
  {
   "cell_type": "code",
   "execution_count": null,
   "id": "9cd56b82-14ad-4951-989c-cbf39f5a9c5f",
   "metadata": {},
   "outputs": [],
   "source": []
  },
  {
   "cell_type": "code",
   "execution_count": 10,
   "id": "3d247ea6-e724-44ca-9c70-da1adafae023",
   "metadata": {},
   "outputs": [
    {
     "data": {
      "image/png": "[encoded data removed]",
      "text/plain": [
       "<Figure size 432x288 with 1 Axes>"
      ]
     },
     "metadata": {
      "needs_background": "light"
     },
     "output_type": "display_data"
    }
   ],
   "source": [
    "env_screen = env.render(mode = 'rgb_array')\n",
    "# env.close()\n",
    "\n",
    "import matplotlib.pyplot as plt \n",
    "plt.imshow(env_screen)\n",
    "plt.axis('off')\n",
    "plt.show()"
   ]
  },
  {
   "cell_type": "code",
   "execution_count": null,
   "id": "b9c28f8c-9021-4ec9-8bfb-a58a25c7b6da",
   "metadata": {},
   "outputs": [],
   "source": []
  },
  {
   "cell_type": "code",
   "execution_count": null,
   "id": "fd6aeedd-b655-44df-bc2c-147ced46663d",
   "metadata": {},
   "outputs": [],
   "source": []
  },
  {
   "cell_type": "code",
   "execution_count": null,
   "id": "52607295-2e59-4511-bcc7-ca6227c2bb97",
   "metadata": {},
   "outputs": [],
   "source": []
  },
  {
   "cell_type": "code",
   "execution_count": null,
   "id": "d9178414-dccf-4f81-a4ed-350d2604ce1a",
   "metadata": {},
   "outputs": [],
   "source": []
  }
 ],
 "metadata": {
  "kernelspec": {
   "display_name": "Python 3 (ipykernel)",
   "language": "python",
   "name": "python3"
  },
  "language_info": {
   "codemirror_mode": {
    "name": "ipython",
    "version": 3
   },
   "file_extension": ".py",
   "mimetype": "text/x-python",
   "name": "python",
   "nbconvert_exporter": "python",
   "pygments_lexer": "ipython3",
   "version": "3.9.13"
  }
 },
 "nbformat": 4,
 "nbformat_minor": 5
}
